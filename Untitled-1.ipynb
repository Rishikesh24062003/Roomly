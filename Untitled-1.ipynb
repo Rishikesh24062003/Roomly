{
 "cells": [
  {
   "cell_type": "code",
   "execution_count": 7,
   "metadata": {},
   "outputs": [
    {
     "name": "stdout",
     "output_type": "stream",
     "text": [
      "Width: 720, Height: 576, Mode: L\n"
     ]
    }
   ],
   "source": [
    "from PIL import Image\n",
    "\n",
    "def read_bmp(file_path):\n",
    "    #\n",
    "    with Image.open(file_path) as img:\n",
    "        \n",
    "        width, height = img.size\n",
    "        mode = img.mode\n",
    "        pixel_data = list(img.getdata())\n",
    "\n",
    "    return width, height, mode, pixel_data\n",
    "\n",
    "\n",
    "file_path =r\"C:\\Users\\Jasmeet Kaur\\Desktop\\dip_lab1\\boats.bmp\"\n",
    "width, height, mode, pixel_data = read_bmp(file_path)\n",
    "\n",
    "print(f\"Width: {width}, Height: {height}, Mode: {mode}\")\n",
    "\n"
   ]
  },
  {
   "cell_type": "code",
   "execution_count": 20,
   "metadata": {},
   "outputs": [],
   "source": [
    "from PIL import Image\n",
    "\n",
    "def display_image(file_path):\n",
    "    # Open the image\n",
    "    with Image.open(file_path) as img:\n",
    "        # Display the image\n",
    "        img.show()\n",
    "\n",
    "# Example usage\n",
    "file_path =r'C:\\Users\\Jasmeet Kaur\\Desktop\\dip_lab1\\boats.bmp'\n",
    "display_image(file_path)\n"
   ]
  },
  {
   "cell_type": "code",
   "execution_count": 14,
   "metadata": {},
   "outputs": [],
   "source": [
    "from PIL import Image, ImageOps\n",
    "\n",
    "def negate_image(file_path, output_path):\n",
    "    # Open the image\n",
    "    with Image.open(file_path) as img:\n",
    "        # Negate (invert) the image\n",
    "        negated_img = ImageOps.invert(img)\n",
    "\n",
    "        # Save the negated image to the output path\n",
    "        negated_img.save(output_path)\n",
    "\n",
    "# Example usage\n",
    "input_file_path =r'C:\\Users\\Jasmeet Kaur\\Desktop\\dip_lab1\\boats.bmp'\n",
    "output_file_path =r'C:\\Users\\Jasmeet Kaur\\Desktop\\dip_lab1\\image.bmp'\n",
    "\n",
    "negate_image(input_file_path, output_file_path)\n"
   ]
  },
  {
   "cell_type": "code",
   "execution_count": 1,
   "metadata": {},
   "outputs": [],
   "source": [
    "from PIL import Image\n",
    "\n",
    "def negate_image(image_path):\n",
    "    img = Image.open(image_path)\n",
    "    width, height = img.size\n",
    "    for x in range(width):\n",
    "            for y in range(height):\n",
    "                intensity = img.getpixel((x, y))\n",
    "                negated_intensity = 255 - intensity\n",
    "                img.putpixel((x, y), negated_intensity)\n",
    "\n",
    "    img.save('negated_image.bmp')\n",
    "    img.show()\n",
    "    img.close()\n",
    "image_path = r'C:\\Users\\Jasmeet Kaur\\Desktop\\dip_lab1\\boats.bmp'\n",
    "negate_image(image_path)\n"
   ]
  },
  {
   "cell_type": "code",
   "execution_count": 51,
   "metadata": {},
   "outputs": [],
   "source": [
    "from PIL import Image\n",
    "import numpy as np\n",
    "\n",
    "def power_law_transform(image_path, output_path, c, gamma):\n",
    "    \n",
    "    img = Image.open(image_path)\n",
    "    width, height = img.size\n",
    "    img_array = np.array(img)\n",
    "    img_array = c * (img_array**gamma)\n",
    "    img_array = np.clip(img_array, 0, 255)\n",
    "    transformed_img = Image.fromarray(np.uint8(img_array))\n",
    "    transformed_img.save(output_path)\n",
    "    img.show()\n",
    "    transformed_img.show()\n",
    "    img.close()\n",
    "    transformed_img.close()\n",
    "image_path = r'C:\\Users\\Jasmeet Kaur\\Desktop\\dip_lab1\\rasins.jpeg'\n",
    "output_path =r'C:\\Users\\Jasmeet Kaur\\Desktop\\dip_lab1\\power_image.jpeg'\n",
    "c = 1.6 \n",
    "gamma = 0.995 \n",
    "\n",
    "power_law_transform(image_path, output_path, c, gamma)\n"
   ]
  },
  {
   "cell_type": "code",
   "execution_count": null,
   "metadata": {},
   "outputs": [],
   "source": []
  },
  {
   "cell_type": "code",
   "execution_count": null,
   "metadata": {},
   "outputs": [],
   "source": []
  }
 ],
 "metadata": {
  "kernelspec": {
   "display_name": "Python 3",
   "language": "python",
   "name": "python3"
  },
  "language_info": {
   "codemirror_mode": {
    "name": "ipython",
    "version": 3
   },
   "file_extension": ".py",
   "mimetype": "text/x-python",
   "name": "python",
   "nbconvert_exporter": "python",
   "pygments_lexer": "ipython3",
   "version": "3.12.1"
  }
 },
 "nbformat": 4,
 "nbformat_minor": 2
}
